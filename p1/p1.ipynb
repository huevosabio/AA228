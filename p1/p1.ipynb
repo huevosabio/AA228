{
 "cells": [
  {
   "cell_type": "markdown",
   "metadata": {},
   "source": [
    "### Sketch\n",
    "\n",
    "I'm taking the approached shown here: https://arxiv.org/ftp/arxiv/papers/1207/1207.1429.pdf\n",
    "\n",
    "Sketch:\n",
    "- let $X_{i:N}$ be a specific ordering (of my choosing)\n",
    "- let $k$ be an arbitrary, fixed bound on parents per node\n",
    "- the possible set of parents is \n",
    "$$\n",
    "\\mathcal{U}_{i,\\prec} = \\{ \\bf{U} : \\bf{U} \\prec X_i; \\vert \\bf{U} \\vert \\leq k \\}\n",
    "$$\n",
    "- "
   ]
  },
  {
   "cell_type": "code",
   "execution_count": null,
   "metadata": {
    "collapsed": true
   },
   "outputs": [],
   "source": []
  }
 ],
 "metadata": {
  "anaconda-cloud": {},
  "kernelspec": {
   "display_name": "Julia 0.5.0",
   "language": "julia",
   "name": "julia-0.5"
  },
  "language_info": {
   "file_extension": ".jl",
   "mimetype": "application/julia",
   "name": "julia",
   "version": "0.5.0"
  }
 },
 "nbformat": 4,
 "nbformat_minor": 1
}
